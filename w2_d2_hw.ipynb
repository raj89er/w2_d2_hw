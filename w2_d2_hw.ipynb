{
 "cells": [
  {
   "cell_type": "markdown",
   "id": "7db4b8ed",
   "metadata": {},
   "source": [
    "## Exercise 1 <br>\n",
    "<p>Write a program that takes in a user input and prints out how many vowels are in the response</p>\n",
    "\n"
   ]
  },
  {
   "cell_type": "code",
   "execution_count": 3,
   "id": "699c7ccf",
   "metadata": {},
   "outputs": [
    {
     "name": "stdout",
     "output_type": "stream",
     "text": [
      "Enter a string: Hello There!\n",
      "Number of vowels: 4\n"
     ]
    }
   ],
   "source": [
    "# \"Example\" -> 3\n",
    "# \"Hello World\" -> 3\n",
    "# \"Brian\" -> 2\n",
    "# \"This is a longer response\" -> 8\n",
    "\n",
    "# Vowels = 'A', 'E', 'I', 'O', 'U' -- 'Y' will not be considered a vowel\n",
    "\n",
    "vowels = 'AEIOUaeiou'\n",
    "vowel_count = 0\n",
    "\n",
    "user_input = input(\"Enter a string: \")\n",
    "for char in user_input:\n",
    "    if char in vowels:\n",
    "        vowel_count += 1\n",
    "print(\"Number of vowels:\", vowel_count)\n"
   ]
  },
  {
   "cell_type": "markdown",
   "id": "fc2d762a",
   "metadata": {},
   "source": [
    "## Exercise 2 <br>\n",
    "<p>Create a list of names of 4 letters or more and capitalize each name</p>\n",
    "<p>*Double Bonus* Do it using list comprehension</p>"
   ]
  },
  {
   "cell_type": "code",
   "execution_count": 15,
   "id": "2821933f",
   "metadata": {},
   "outputs": [
    {
     "name": "stdout",
     "output_type": "stream",
     "text": [
      "['Connor', 'Connor', 'Connor', 'Evan', 'Evan', 'Kevin']\n"
     ]
    }
   ],
   "source": [
    "# Output - ['Connor', 'Connor', 'Connor', 'Evan', 'Evan', 'Kevin']\n",
    "\n",
    "names1 = ['connor', 'connor', 'bob', 'connor', 'evan', 'max', 'evan', 'bob', 'kevin']\n",
    "\n",
    "capitalized_names = []\n",
    "\n",
    "for name in names1:\n",
    "    if len(name) >= 4:\n",
    "        capitalized_names.append(name.capitalize())\n",
    "\n",
    "print(capitalized_names)"
   ]
  },
  {
   "cell_type": "code",
   "execution_count": 16,
   "id": "44db3f83",
   "metadata": {},
   "outputs": [
    {
     "name": "stdout",
     "output_type": "stream",
     "text": [
      "['Connor', 'Connor', 'Connor', 'Evan', 'Evan', 'Kevin']\n"
     ]
    }
   ],
   "source": [
    "# Example 2 pt1 - list comprehension\n",
    "\n",
    "names1 = ['connor', 'connor', 'bob', 'connor', 'evan', 'max', 'evan', 'bob', 'kevin']\n",
    "\n",
    "capitalized_names = [name.capitalize() for name in names1 if len(name) >= 4]\n",
    "\n",
    "print(capitalized_names)"
   ]
  },
  {
   "cell_type": "code",
   "execution_count": 8,
   "id": "d736c5fc",
   "metadata": {},
   "outputs": [
    {
     "name": "stdout",
     "output_type": "stream",
     "text": [
      "['Connor', 'Connor', 'Connor', 'Evan', 'Evan', 'Kevin']\n"
     ]
    }
   ],
   "source": [
    "names2 = ['connor', 'connor', 'bob', 'connor', 'evan', 'max', 'evan', 2, 2, 2, 3, 3, 4, 'bob', 'kevin']\n",
    "\n",
    "capitalized_names = []\n",
    "names_without_integers = []\n",
    "\n",
    "for name in names2:\n",
    "    if not isinstance(name, int):\n",
    "        names_without_integers.append(name)\n",
    "\n",
    "for name in names_without_integers:\n",
    "    if len(name) >= 4:\n",
    "        capitalized_names.append(name.capitalize())\n",
    "\n",
    "print(capitalized_names)\n"
   ]
  },
  {
   "cell_type": "code",
   "execution_count": 17,
   "id": "7a0bdb33",
   "metadata": {},
   "outputs": [
    {
     "name": "stdout",
     "output_type": "stream",
     "text": [
      "['Connor', 'Connor', 'Connor', 'Evan', 'Evan', 'Kevin']\n"
     ]
    }
   ],
   "source": [
    "# Example 2 pt2 - list comprehension\n",
    "\n",
    "capitalized_names = [name.capitalize() for name in names2 if not str(name).isdigit() and len(str(name)) >= 4]\n",
    "\n",
    "print(capitalized_names)"
   ]
  },
  {
   "cell_type": "code",
   "execution_count": null,
   "id": "9ca0b2ad",
   "metadata": {},
   "outputs": [],
   "source": []
  }
 ],
 "metadata": {
  "kernelspec": {
   "display_name": "Python 3 (ipykernel)",
   "language": "python",
   "name": "python3"
  },
  "language_info": {
   "codemirror_mode": {
    "name": "ipython",
    "version": 3
   },
   "file_extension": ".py",
   "mimetype": "text/x-python",
   "name": "python",
   "nbconvert_exporter": "python",
   "pygments_lexer": "ipython3",
   "version": "3.11.5"
  }
 },
 "nbformat": 4,
 "nbformat_minor": 5
}
